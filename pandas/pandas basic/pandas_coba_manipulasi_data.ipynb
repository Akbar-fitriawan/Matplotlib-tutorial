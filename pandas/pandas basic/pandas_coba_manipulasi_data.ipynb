{
  "nbformat": 4,
  "nbformat_minor": 0,
  "metadata": {
    "colab": {
      "provenance": []
    },
    "kernelspec": {
      "name": "python3",
      "display_name": "Python 3"
    },
    "language_info": {
      "name": "python"
    }
  },
  "cells": [
    {
      "cell_type": "code",
      "source": [
        "import numpy as np\n",
        "import pandas as pd\n"
      ],
      "metadata": {
        "id": "fGuViPvy0uF5"
      },
      "execution_count": 95,
      "outputs": []
    },
    {
      "cell_type": "markdown",
      "source": [
        "# Data"
      ],
      "metadata": {
        "id": "ObIk8fbWh247"
      }
    },
    {
      "cell_type": "code",
      "source": [
        "data_kategori = {\n",
        "    'kategori_id':np.array([i for i in range(1,5)]),\n",
        "    'ketagori':np.array(['makana','minuman','tambahan','kudapan']),\n",
        "}\n",
        "\n",
        "data_produk = {\n",
        "    'kategori_id':np.array([1,1,1,2,2,2,1,3,2,3]),\n",
        "    'produk':np.array([\n",
        "        'Soto Ayam',\n",
        "        'Nasi Goreng Seafood',\n",
        "        'Sate Kambing',\n",
        "        'Limun Soda',\n",
        "        'Kopi Susu',\n",
        "        'Air Mineral',\n",
        "        'Bakso Sapi',\n",
        "        'Tempe Bacem',\n",
        "        'Es Teh Manis',\n",
        "        'Kerupuk',\n",
        "        ]),\n",
        "}\n"
      ],
      "metadata": {
        "id": "3yjfmwdjU4rK"
      },
      "execution_count": 96,
      "outputs": []
    },
    {
      "cell_type": "markdown",
      "source": [
        "# Operasi"
      ],
      "metadata": {
        "id": "zfgz1NTXiM3U"
      }
    },
    {
      "cell_type": "code",
      "source": [
        "kategori = pd.DataFrame(data_kategori)\n",
        "produk = pd.DataFrame(data_produk)\n",
        "gabung_table = pd.merge(produk,kategori, on='kategori_id')\n",
        "gabung_table_outer = pd.merge(produk,kategori, on='kategori_id', how='outer')"
      ],
      "metadata": {
        "id": "rQ6vs8d4iJLw"
      },
      "execution_count": 97,
      "outputs": []
    },
    {
      "cell_type": "markdown",
      "source": [
        "# Sorting"
      ],
      "metadata": {
        "id": "AJU3fKVvuDt4"
      }
    },
    {
      "cell_type": "code",
      "source": [
        "urutkan = produk.sort_values(by='produk')\n",
        "# urutkan = produk.sort_values(by='produk', ascending=False) # di balik urutannya\n",
        "# urutkan_berdasarkan_index = produk.sort_index() # default nya gitu"
      ],
      "metadata": {
        "id": "r9Ccwz9JuCpG"
      },
      "execution_count": 98,
      "outputs": []
    },
    {
      "cell_type": "code",
      "source": [
        "df1 = pd.DataFrame([4,5,2,7,1,8], columns=['nilai'])\n",
        "df1['ranking'] = df1['nilai'].rank()\n",
        "print(df1)"
      ],
      "metadata": {
        "colab": {
          "base_uri": "https://localhost:8080/"
        },
        "id": "_wwkKq0dx2AS",
        "outputId": "5cd08863-9327-410a-d64a-ad99f7613663"
      },
      "execution_count": 99,
      "outputs": [
        {
          "output_type": "stream",
          "name": "stdout",
          "text": [
            "   nilai  ranking\n",
            "0      4      3.0\n",
            "1      5      4.0\n",
            "2      2      2.0\n",
            "3      7      5.0\n",
            "4      1      1.0\n",
            "5      8      6.0\n"
          ]
        }
      ]
    },
    {
      "cell_type": "markdown",
      "source": [
        "# Binning 'Pecah data jadi bin(kecil)'"
      ],
      "metadata": {
        "id": "GxQFwEYad9gf"
      }
    },
    {
      "cell_type": "code",
      "source": [
        "kelompok_usia = np.array([1,12,25,45,65])\n",
        "kelompok_usia_label = np.array(['anak-anak','remaja','dewasa','lanjut usia'])\n",
        "jumlah_data = 30\n",
        "responden = np.array([i + np.random.randint(1,67) for i in range(jumlah_data)])\n",
        "\n",
        "print(kelompok_usia)\n",
        "print(kelompok_usia_label)\n",
        "print(responden)"
      ],
      "metadata": {
        "colab": {
          "base_uri": "https://localhost:8080/"
        },
        "id": "rpSw7lEYd4W7",
        "outputId": "cbabb402-07cb-4b44-9502-790dc059b7bf"
      },
      "execution_count": 122,
      "outputs": [
        {
          "output_type": "stream",
          "name": "stdout",
          "text": [
            "[ 1 12 25 45 65]\n",
            "['anak-anak' 'remaja' 'dewasa' 'lanjut usia']\n",
            "[ 4 56 13 49 21 53 40 10 70 52 30 13 56 32 15 59 69 31 33 67 47 35 65 50\n",
            " 32 34 28 60 83 47]\n"
          ]
        }
      ]
    },
    {
      "cell_type": "code",
      "source": [
        "binning = pd.cut(responden, kelompok_usia, labels=kelompok_usia_label) # di bagi menjadi kecil berdasarkan label\n",
        "\n",
        "data = {\n",
        "    'kategori':binning,\n",
        "    'usia':responden,\n",
        "}\n",
        "\n",
        "\n",
        "data_frame = pd.DataFrame(data).dropna()\n",
        "\n",
        "print(binning, '\\n')\n",
        "print(data_frame, '\\n')\n",
        "pd.value_counts(binning)"
      ],
      "metadata": {
        "colab": {
          "base_uri": "https://localhost:8080/"
        },
        "id": "3v90BkgggWsK",
        "outputId": "2d9f9836-52cb-46b7-9719-b3fff697ea0a"
      },
      "execution_count": 125,
      "outputs": [
        {
          "output_type": "stream",
          "name": "stdout",
          "text": [
            "['anak-anak', 'lanjut usia', 'remaja', 'lanjut usia', 'remaja', ..., 'dewasa', 'dewasa', 'lanjut usia', NaN, 'lanjut usia']\n",
            "Length: 30\n",
            "Categories (4, object): ['anak-anak' < 'remaja' < 'dewasa' < 'lanjut usia'] \n",
            "\n",
            "       kategori  usia\n",
            "0     anak-anak     4\n",
            "1   lanjut usia    56\n",
            "2        remaja    13\n",
            "3   lanjut usia    49\n",
            "4        remaja    21\n",
            "5   lanjut usia    53\n",
            "6        dewasa    40\n",
            "7     anak-anak    10\n",
            "9   lanjut usia    52\n",
            "10       dewasa    30\n",
            "11       remaja    13\n",
            "12  lanjut usia    56\n",
            "13       dewasa    32\n",
            "14       remaja    15\n",
            "15  lanjut usia    59\n",
            "17       dewasa    31\n",
            "18       dewasa    33\n",
            "20  lanjut usia    47\n",
            "21       dewasa    35\n",
            "22  lanjut usia    65\n",
            "23  lanjut usia    50\n",
            "24       dewasa    32\n",
            "25       dewasa    34\n",
            "26       dewasa    28\n",
            "27  lanjut usia    60\n",
            "29  lanjut usia    47 \n",
            "\n"
          ]
        },
        {
          "output_type": "execute_result",
          "data": {
            "text/plain": [
              "lanjut usia    11\n",
              "dewasa          9\n",
              "remaja          4\n",
              "anak-anak       2\n",
              "dtype: int64"
            ]
          },
          "metadata": {},
          "execution_count": 125
        }
      ]
    },
    {
      "cell_type": "markdown",
      "source": [],
      "metadata": {
        "id": "Vn05vMdddxF2"
      }
    },
    {
      "cell_type": "markdown",
      "source": [
        "# Tampilkan"
      ],
      "metadata": {
        "id": "9ALrME_Nts9H"
      }
    },
    {
      "cell_type": "code",
      "source": [
        "print(kategori, '\\n') # Data kategori\n",
        "print(produk, '\\n') # Data produk\n",
        "print(gabung_table, '\\n') # merge join\n",
        "print(gabung_table_outer,'\\n') # merge outer yang data Nan juga muncul\n",
        "print(urutkan,'\\n')\n"
      ],
      "metadata": {
        "colab": {
          "base_uri": "https://localhost:8080/"
        },
        "id": "Iz-_c4EVtzxi",
        "outputId": "f332406d-1ebe-4a32-f148-4b0db8508ed2"
      },
      "execution_count": 126,
      "outputs": [
        {
          "output_type": "stream",
          "name": "stdout",
          "text": [
            "   kategori_id  ketagori\n",
            "0            1    makana\n",
            "1            2   minuman\n",
            "2            3  tambahan\n",
            "3            4   kudapan \n",
            "\n",
            "   kategori_id               produk\n",
            "0            1            Soto Ayam\n",
            "1            1  Nasi Goreng Seafood\n",
            "2            1         Sate Kambing\n",
            "3            2           Limun Soda\n",
            "4            2            Kopi Susu\n",
            "5            2          Air Mineral\n",
            "6            1           Bakso Sapi\n",
            "7            3          Tempe Bacem\n",
            "8            2         Es Teh Manis\n",
            "9            3              Kerupuk \n",
            "\n",
            "   kategori_id               produk  ketagori\n",
            "0            1            Soto Ayam    makana\n",
            "1            1  Nasi Goreng Seafood    makana\n",
            "2            1         Sate Kambing    makana\n",
            "3            1           Bakso Sapi    makana\n",
            "4            2           Limun Soda   minuman\n",
            "5            2            Kopi Susu   minuman\n",
            "6            2          Air Mineral   minuman\n",
            "7            2         Es Teh Manis   minuman\n",
            "8            3          Tempe Bacem  tambahan\n",
            "9            3              Kerupuk  tambahan \n",
            "\n",
            "    kategori_id               produk  ketagori\n",
            "0             1            Soto Ayam    makana\n",
            "1             1  Nasi Goreng Seafood    makana\n",
            "2             1         Sate Kambing    makana\n",
            "3             1           Bakso Sapi    makana\n",
            "4             2           Limun Soda   minuman\n",
            "5             2            Kopi Susu   minuman\n",
            "6             2          Air Mineral   minuman\n",
            "7             2         Es Teh Manis   minuman\n",
            "8             3          Tempe Bacem  tambahan\n",
            "9             3              Kerupuk  tambahan\n",
            "10            4                  NaN   kudapan \n",
            "\n",
            "   kategori_id               produk\n",
            "5            2          Air Mineral\n",
            "6            1           Bakso Sapi\n",
            "8            2         Es Teh Manis\n",
            "9            3              Kerupuk\n",
            "4            2            Kopi Susu\n",
            "3            2           Limun Soda\n",
            "1            1  Nasi Goreng Seafood\n",
            "2            1         Sate Kambing\n",
            "0            1            Soto Ayam\n",
            "7            3          Tempe Bacem \n",
            "\n"
          ]
        }
      ]
    }
  ]
}