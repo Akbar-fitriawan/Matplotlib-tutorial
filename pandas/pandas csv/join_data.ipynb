{
  "nbformat": 4,
  "nbformat_minor": 0,
  "metadata": {
    "colab": {
      "provenance": []
    },
    "kernelspec": {
      "name": "python3",
      "display_name": "Python 3"
    },
    "language_info": {
      "name": "python"
    }
  },
  "cells": [
    {
      "cell_type": "code",
      "source": [
        "import numpy as np\n",
        "import pandas as pd\n"
      ],
      "metadata": {
        "id": "fGuViPvy0uF5"
      },
      "execution_count": 45,
      "outputs": []
    },
    {
      "cell_type": "code",
      "source": [
        "data_kategori = {\n",
        "    'kategori_id':np.array([i for i in range(1,5)]),\n",
        "    'ketagori':np.array(['makana','minuman','tambahan','kudapan']),\n",
        "}\n",
        "\n",
        "data_produk = {\n",
        "    'kategori_id':np.array([1,1,1,2,2,2,1,3,2,3]),\n",
        "    'produk':np.array([\n",
        "        'Soto Ayam',\n",
        "        'Nasi Goreng Seafood',\n",
        "        'Sate Kambing',\n",
        "        'Limun Soda',\n",
        "        'Kopi Susu',\n",
        "        'Air Mineral',\n",
        "        'Bakso Sapi',\n",
        "        'Tempe Bacem',\n",
        "        'Es Teh Manis',\n",
        "        'Kerupuk',\n",
        "        ]),\n",
        "}\n",
        "\n",
        "kategori = pd.DataFrame(data_kategori)\n",
        "produk = pd.DataFrame(data_produk)\n",
        "gabung_table = pd.merge(produk,kategori, on='kategori_id')\n",
        "\n",
        "print(kategori, '\\n')\n",
        "print(produk, '\\n')\n",
        "print(gabung_table)"
      ],
      "metadata": {
        "colab": {
          "base_uri": "https://localhost:8080/"
        },
        "id": "3yjfmwdjU4rK",
        "outputId": "338bbd42-61c1-4ce0-9728-fbc8f6e0021b"
      },
      "execution_count": 53,
      "outputs": [
        {
          "output_type": "stream",
          "name": "stdout",
          "text": [
            "   kategori_id  ketagori\n",
            "0            1    makana\n",
            "1            2   minuman\n",
            "2            3  tambahan\n",
            "3            4   kudapan \n",
            "\n",
            "   kategori_id               produk\n",
            "0            1            Soto Ayam\n",
            "1            1  Nasi Goreng Seafood\n",
            "2            1         Sate Kambing\n",
            "3            2           Limun Soda\n",
            "4            2            Kopi Susu\n",
            "5            2          Air Mineral\n",
            "6            1           Bakso Sapi\n",
            "7            3          Tempe Bacem\n",
            "8            2         Es Teh Manis\n",
            "9            3              Kerupuk \n",
            "\n",
            "   kategori_id               produk  ketagori\n",
            "0            1            Soto Ayam    makana\n",
            "1            1  Nasi Goreng Seafood    makana\n",
            "2            1         Sate Kambing    makana\n",
            "3            1           Bakso Sapi    makana\n",
            "4            2           Limun Soda   minuman\n",
            "5            2            Kopi Susu   minuman\n",
            "6            2          Air Mineral   minuman\n",
            "7            2         Es Teh Manis   minuman\n",
            "8            3          Tempe Bacem  tambahan\n",
            "9            3              Kerupuk  tambahan\n"
          ]
        }
      ]
    }
  ]
}